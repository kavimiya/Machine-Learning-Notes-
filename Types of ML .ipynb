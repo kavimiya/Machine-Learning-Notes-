{
 "cells": [
  {
   "cell_type": "markdown",
   "id": "2fdfcf1b-b0e4-4fb9-b02d-c10bbb3e2aa6",
   "metadata": {},
   "source": [
    "## Supervised Learning: \n",
    "* In supervised learning, the `algorithm is trained on a labeled dataset`, where each example in `the dataset is paired with a label or an outcome`. The `algorithm learns to map inputs to outputs based on this labeled data`. Common tasks in supervised learning include `classification (predicting categories)` and `regression (predicting continuous values)`.\n",
    "* Examples include spam email detection, image classification, and house price prediction.\n",
    "\n",
    "## Unsupervised Learning: \n",
    "* Unsupervised learning `involves training the algorithm on a dataset without labeled responses`. The algorithm `learns to find patterns or structures in the data on its own.` This `type of learning is useful for tasks such as clustering (grouping similar data points together)` and `dimensionality reduction (reducing the number of features while preserving meaningful information)`.\n",
    "* Examples include customer segmentation, anomaly detection, and topic modeling.\n",
    "\n",
    "## Semi-Supervised Learning: \n",
    "* This type of learning `falls between supervised and unsupervised learning`. In semi-supervised learning, the `algorithm is trained on a dataset that is partially labeled - meaning, a small portion of the data has labels, while the majority of it does not`. This approach leverages the large amounts of unlabeled data to better understand the structure of the dataset and make predictions about the labels for the unlabeled data. Semi-supervised learning is particularly useful when obtaining labels is expensive or time-consuming.\n",
    "* It's used in scenarios like image and speech recognition, where labeling requires expert human intervention and unlabeled data is abundant.\n",
    "\n",
    "## Reinforcement Learning: \n",
    "* In reinforcement learning, an `agent learns to make decisions by interacting with an environment`. The `agent receives feedback in the form of rewards or penalties based on its actions, and its goal is to learn the optimal behavior to maximize cumulative rewards over time`.\n",
    "* Reinforcement learning is commonly used in tasks such as game playing, robotics, and autonomous vehicle control.\n",
    "\n"
   ]
  },
  {
   "cell_type": "markdown",
   "id": "18d2fa29-d5c4-4ffe-9c2b-71fa5468c6a7",
   "metadata": {},
   "source": [
    "## In summary:"
   ]
  },
  {
   "cell_type": "markdown",
   "id": "1d49c237-6be6-4966-a164-1f8e7bba554b",
   "metadata": {},
   "source": [
    "* Supervised Learning: Learning from labeled data to predict outcomes for new, unseen data.\n",
    "* Unsupervised Learning: Discovering hidden patterns in data without any labels.\n",
    "* Semi-Supervised Learning: Combining a small amount of labeled data with a large amount of unlabeled data to improve learning accuracy.\n",
    "* Reinforcement Learning: Learning to make decisions by performing actions and receiving feedback in the form of rewards.\n"
   ]
  },
  {
   "cell_type": "code",
   "execution_count": null,
   "id": "e31de5cb-7d56-4d59-b99b-68103253af9e",
   "metadata": {},
   "outputs": [],
   "source": []
  }
 ],
 "metadata": {
  "kernelspec": {
   "display_name": "Python 3 (ipykernel)",
   "language": "python",
   "name": "python3"
  },
  "language_info": {
   "codemirror_mode": {
    "name": "ipython",
    "version": 3
   },
   "file_extension": ".py",
   "mimetype": "text/x-python",
   "name": "python",
   "nbconvert_exporter": "python",
   "pygments_lexer": "ipython3",
   "version": "3.10.9"
  }
 },
 "nbformat": 4,
 "nbformat_minor": 5
}
